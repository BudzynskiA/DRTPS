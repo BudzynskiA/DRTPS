{
 "cells": [
  {
   "cell_type": "code",
   "execution_count": 1,
   "id": "fde6acc9",
   "metadata": {},
   "outputs": [],
   "source": [
    "#Import Libraries\n",
    "import pandas as pd\n",
    "import numpy as np\n",
    "import joblib\n",
    "from sklearn.metrics import mean_squared_error, r2_score\n",
    "import matplotlib.pyplot as plt"
   ]
  },
  {
   "cell_type": "code",
   "execution_count": 2,
   "id": "e7094014",
   "metadata": {},
   "outputs": [],
   "source": [
    "df = pd.read_csv('DRTPS_DATA_VALIDATION.csv',delimiter=',',header='infer')"
   ]
  },
  {
   "cell_type": "code",
   "execution_count": 3,
   "id": "dae59194",
   "metadata": {},
   "outputs": [],
   "source": [
    "# Create new features\n",
    "\n",
    "# Classification country load place:\n",
    "df['LC_AD'] = df['LC'] == 'AD'\n",
    "df['LC_AL'] = df['LC'] == 'AL'\n",
    "df['LC_AM'] = df['LC'] == 'AM'\n",
    "df['LC_AT'] = df['LC'] == 'AT'\n",
    "df['LC_AZ'] = df['LC'] == 'AZ'\n",
    "df['LC_BA'] = df['LC'] == 'BA'\n",
    "df['LC_BE'] = df['LC'] == 'BE'\n",
    "df['LC_BG'] = df['LC'] == 'BG'\n",
    "df['LC_BY'] = df['LC'] == 'BY'\n",
    "df['LC_CH'] = df['LC'] == 'CH'\n",
    "df['LC_CY'] = df['LC'] == 'CY'\n",
    "df['LC_CZ'] = df['LC'] == 'CZ'\n",
    "df['LC_DE'] = df['LC'] == 'DE'\n",
    "df['LC_DK'] = df['LC'] == 'DK'\n",
    "df['LC_EE'] = df['LC'] == 'EE'\n",
    "df['LC_ES'] = df['LC'] == 'ES'\n",
    "df['LC_FI'] = df['LC'] == 'FI'\n",
    "df['LC_FR'] = df['LC'] == 'FR'\n",
    "df['LC_GB'] = df['LC'] == 'GB'\n",
    "df['LC_GE'] = df['LC'] == 'GE'\n",
    "df['LC_GR'] = df['LC'] == 'GR'\n",
    "df['LC_HR'] = df['LC'] == 'HR'\n",
    "df['LC_HU'] = df['LC'] == 'HU'\n",
    "df['LC_IE'] = df['LC'] == 'IE'\n",
    "df['LC_IS'] = df['LC'] == 'IS'\n",
    "df['LC_IT'] = df['LC'] == 'IT'\n",
    "df['LC_KZ'] = df['LC'] == 'KZ'\n",
    "df['LC_LT'] = df['LC'] == 'LT'\n",
    "df['LC_LU'] = df['LC'] == 'LU'\n",
    "df['LC_LV'] = df['LC'] == 'LV'\n",
    "df['LC_MD'] = df['LC'] == 'MD'\n",
    "df['LC_ME'] = df['LC'] == 'ME'\n",
    "df['LC_MK'] = df['LC'] == 'MK'\n",
    "df['LC_NL'] = df['LC'] == 'NL'\n",
    "df['LC_NO'] = df['LC'] == 'NO'\n",
    "df['LC_PL'] = df['LC'] == 'PL'\n",
    "df['LC_PT'] = df['LC'] == 'PT'\n",
    "df['LC_RO'] = df['LC'] == 'RO'\n",
    "df['LC_RS'] = df['LC'] == 'RS'\n",
    "df['LC_RU'] = df['LC'] == 'RU'\n",
    "df['LC_SE'] = df['LC'] == 'SE'\n",
    "df['LC_SI'] = df['LC'] == 'SI'\n",
    "df['LC_SK'] = df['LC'] == 'SK'\n",
    "df['LC_TR'] = df['LC'] == 'TR'\n",
    "df['LC_UA'] = df['LC'] == 'UA'\n",
    "\n",
    "# Classification country delivery place:\n",
    "df['DC_AD'] = df['DC'] == 'AD'\n",
    "df['DC_AL'] = df['DC'] == 'AL'\n",
    "df['DC_AM'] = df['DC'] == 'AM'\n",
    "df['DC_AT'] = df['DC'] == 'AT'\n",
    "df['DC_AZ'] = df['DC'] == 'AZ'\n",
    "df['DC_BA'] = df['DC'] == 'BA'\n",
    "df['DC_BE'] = df['DC'] == 'BE'\n",
    "df['DC_BG'] = df['DC'] == 'BG'\n",
    "df['DC_BY'] = df['DC'] == 'BY'\n",
    "df['DC_CH'] = df['DC'] == 'CH'\n",
    "df['DC_CY'] = df['DC'] == 'CY'\n",
    "df['DC_CZ'] = df['DC'] == 'CZ'\n",
    "df['DC_DE'] = df['DC'] == 'DE'\n",
    "df['DC_DK'] = df['DC'] == 'DK'\n",
    "df['DC_EE'] = df['DC'] == 'EE'\n",
    "df['DC_ES'] = df['DC'] == 'ES'\n",
    "df['DC_FI'] = df['DC'] == 'FI'\n",
    "df['DC_FR'] = df['DC'] == 'FR'\n",
    "df['DC_GB'] = df['DC'] == 'GB'\n",
    "df['DC_GE'] = df['DC'] == 'GE'\n",
    "df['DC_GR'] = df['DC'] == 'GR'\n",
    "df['DC_HR'] = df['DC'] == 'HR'\n",
    "df['DC_HU'] = df['DC'] == 'HU'\n",
    "df['DC_IE'] = df['DC'] == 'IE'\n",
    "df['DC_IS'] = df['DC'] == 'IS'\n",
    "df['DC_IT'] = df['DC'] == 'IT'\n",
    "df['DC_KZ'] = df['DC'] == 'KZ'\n",
    "df['DC_LT'] = df['DC'] == 'LT'\n",
    "df['DC_LU'] = df['DC'] == 'LU'\n",
    "df['DC_LV'] = df['DC'] == 'LV'\n",
    "df['DC_MD'] = df['DC'] == 'MD'\n",
    "df['DC_ME'] = df['DC'] == 'ME'\n",
    "df['DC_MK'] = df['DC'] == 'MK'\n",
    "df['DC_NL'] = df['DC'] == 'NL'\n",
    "df['DC_NO'] = df['DC'] == 'NO'\n",
    "df['DC_PL'] = df['DC'] == 'PL'\n",
    "df['DC_PT'] = df['DC'] == 'PT'\n",
    "df['DC_RO'] = df['DC'] == 'RO'\n",
    "df['DC_RS'] = df['DC'] == 'RS'\n",
    "df['DC_RU'] = df['DC'] == 'RU'\n",
    "df['DC_SE'] = df['DC'] == 'SE'\n",
    "df['DC_SI'] = df['DC'] == 'SI'\n",
    "df['DC_SK'] = df['DC'] == 'SK'\n",
    "df['DC_TR'] = df['DC'] == 'TR'\n",
    "df['DC_UA'] = df['DC'] == 'UA'\n",
    "\n",
    "#Data as year and month together\n",
    "df['YM'] = df['Y']+(df['M']/12)-(1/12)\n",
    "\n",
    "#Month Classification\n",
    "df['January'] = df['M'] == 1\n",
    "df['February'] = df['M'] == 2\n",
    "df['March'] = df['M'] == 3\n",
    "df['April'] = df['M'] == 4\n",
    "df['May'] = df['M'] == 5\n",
    "df['June'] = df['M'] == 6\n",
    "df['July'] = df['M'] == 7\n",
    "df['August'] = df['M'] == 8\n",
    "df['September'] = df['M'] == 9\n",
    "df['October'] = df['M'] == 10\n",
    "df['Novemer'] = df['M'] == 11\n",
    "df['December'] = df['M'] == 12"
   ]
  },
  {
   "cell_type": "code",
   "execution_count": 4,
   "id": "02c6157e",
   "metadata": {},
   "outputs": [],
   "source": [
    "#Change false into 0 and true into 1\n",
    "df = df*1"
   ]
  },
  {
   "cell_type": "code",
   "execution_count": 5,
   "id": "90847a2f",
   "metadata": {},
   "outputs": [],
   "source": [
    "from sklearn.model_selection import train_test_split\n",
    "from sklearn.metrics import mean_squared_error, r2_score\n",
    "import matplotlib.pyplot as plt\n",
    "# Separate features and labels\n",
    "X_new = df[[ 'LC_AD',\n",
    " 'LC_AL',\n",
    " 'LC_AM',\n",
    " 'LC_AT',\n",
    " 'LC_AZ',\n",
    " 'LC_BA',\n",
    " 'LC_BE',\n",
    " 'LC_BG',\n",
    " 'LC_BY',\n",
    " 'LC_CH',\n",
    " 'LC_CY',\n",
    " 'LC_CZ',\n",
    " 'LC_DE',\n",
    " 'LC_DK',\n",
    " 'LC_EE',\n",
    " 'LC_ES',\n",
    " 'LC_FI',\n",
    " 'LC_FR',\n",
    " 'LC_GB',\n",
    " 'LC_GE',\n",
    " 'LC_GR',\n",
    " 'LC_HR',\n",
    " 'LC_HU',\n",
    " 'LC_IE',\n",
    " 'LC_IS',\n",
    " 'LC_IT',\n",
    " 'LC_KZ',\n",
    " 'LC_LT',\n",
    " 'LC_LU',\n",
    " 'LC_LV',\n",
    " 'LC_MD',\n",
    " 'LC_ME',\n",
    " 'LC_MK',\n",
    " 'LC_NL',\n",
    " 'LC_NO',\n",
    " 'LC_PL',\n",
    " 'LC_PT',\n",
    " 'LC_RO',\n",
    " 'LC_RS',\n",
    " 'LC_RU',\n",
    " 'LC_SE',\n",
    " 'LC_SI',\n",
    " 'LC_SK',\n",
    " 'LC_TR',\n",
    " 'LC_UA',\n",
    " 'DC_AD',\n",
    " 'DC_AL',\n",
    " 'DC_AM',\n",
    " 'DC_AT',\n",
    " 'DC_AZ',\n",
    " 'DC_BA',\n",
    " 'DC_BE',\n",
    " 'DC_BG',\n",
    " 'DC_BY',\n",
    " 'DC_CH',\n",
    " 'DC_CY',\n",
    " 'DC_CZ',\n",
    " 'DC_DE',\n",
    " 'DC_DK',\n",
    " 'DC_EE',\n",
    " 'DC_ES',\n",
    " 'DC_FI',\n",
    " 'DC_FR',\n",
    " 'DC_GB',\n",
    " 'DC_GE',\n",
    " 'DC_GR',\n",
    " 'DC_HR',\n",
    " 'DC_HU',\n",
    " 'DC_IE',\n",
    " 'DC_IS',\n",
    " 'DC_IT',\n",
    " 'DC_KZ',\n",
    " 'DC_LT',\n",
    " 'DC_LU',\n",
    " 'DC_LV',\n",
    " 'DC_MD',\n",
    " 'DC_ME',\n",
    " 'DC_MK',\n",
    " 'DC_NL',\n",
    " 'DC_NO',\n",
    " 'DC_PL',\n",
    " 'DC_PT',\n",
    " 'DC_RO',\n",
    " 'DC_RS',\n",
    " 'DC_RU',\n",
    " 'DC_SE',\n",
    " 'DC_SI',\n",
    " 'DC_SK',\n",
    " 'DC_TR',\n",
    " 'DC_UA',\n",
    " 'January',\n",
    " 'February',\n",
    " 'March',\n",
    " 'April',\n",
    " 'May',\n",
    " 'June',\n",
    " 'July',\n",
    " 'August',\n",
    " 'September',\n",
    " 'October',\n",
    " 'Novemer',\n",
    " 'December',\n",
    " 'YM'\n",
    "]].values"
   ]
  },
  {
   "cell_type": "code",
   "execution_count": 6,
   "id": "9bb1e9c6",
   "metadata": {},
   "outputs": [
    {
     "name": "stdout",
     "output_type": "stream",
     "text": [
      "MSE: 1.3286725727560494e+28\n",
      "RMSE: 115268060309699.38\n",
      "R2: -3.453017117720128e+25\n"
     ]
    }
   ],
   "source": [
    "model = joblib.load('DRTPS_LinearRegression.pkl')\n",
    "result = df['D']\n",
    "predictions = model.predict(X_new)\n",
    "mse = mean_squared_error(result, predictions)\n",
    "print(\"MSE:\", mse)\n",
    "rmse = np.sqrt(mse)\n",
    "print(\"RMSE:\", rmse)\n",
    "r2 = r2_score(result, predictions)\n",
    "print(\"R2:\", r2)"
   ]
  },
  {
   "cell_type": "code",
   "execution_count": 7,
   "id": "0c63556f",
   "metadata": {},
   "outputs": [
    {
     "name": "stdout",
     "output_type": "stream",
     "text": [
      "MSE: 290.9900591100267\n",
      "RMSE: 17.05843073409822\n",
      "R2: 0.2437612728701979\n"
     ]
    }
   ],
   "source": [
    "model = joblib.load('DRTPS_Ridge.pkl')\n",
    "result = df['D']\n",
    "predictions = model.predict(X_new)\n",
    "mse = mean_squared_error(result, predictions)\n",
    "print(\"MSE:\", mse)\n",
    "rmse = np.sqrt(mse)\n",
    "print(\"RMSE:\", rmse)\n",
    "r2 = r2_score(result, predictions)\n",
    "print(\"R2:\", r2)"
   ]
  },
  {
   "cell_type": "code",
   "execution_count": 8,
   "id": "5ddf116d",
   "metadata": {},
   "outputs": [
    {
     "name": "stdout",
     "output_type": "stream",
     "text": [
      "MSE: 290.99005911001706\n",
      "RMSE: 17.058430734097936\n",
      "R2: 0.2437612728702231\n"
     ]
    }
   ],
   "source": [
    "model = joblib.load('DRTPS_RidgeCV.pkl')\n",
    "result = df['D']\n",
    "predictions = model.predict(X_new)\n",
    "mse = mean_squared_error(result, predictions)\n",
    "print(\"MSE:\", mse)\n",
    "rmse = np.sqrt(mse)\n",
    "print(\"RMSE:\", rmse)\n",
    "r2 = r2_score(result, predictions)\n",
    "print(\"R2:\", r2)"
   ]
  },
  {
   "cell_type": "code",
   "execution_count": 9,
   "id": "eeb1b0d9",
   "metadata": {},
   "outputs": [
    {
     "name": "stdout",
     "output_type": "stream",
     "text": [
      "MSE: 290.25340883935087\n",
      "RMSE: 17.036825080963613\n",
      "R2: 0.2456757144313274\n"
     ]
    }
   ],
   "source": [
    "model = joblib.load('DRTPS_Lasso.pkl')\n",
    "result = df['D']\n",
    "predictions = model.predict(X_new)\n",
    "mse = mean_squared_error(result, predictions)\n",
    "print(\"MSE:\", mse)\n",
    "rmse = np.sqrt(mse)\n",
    "print(\"RMSE:\", rmse)\n",
    "r2 = r2_score(result, predictions)\n",
    "print(\"R2:\", r2)"
   ]
  },
  {
   "cell_type": "code",
   "execution_count": 10,
   "id": "5d7c8148",
   "metadata": {},
   "outputs": [
    {
     "name": "stdout",
     "output_type": "stream",
     "text": [
      "MSE: 286.5085390218874\n",
      "RMSE: 16.926563119011707\n",
      "R2: 0.25540805921549936\n"
     ]
    }
   ],
   "source": [
    "model = joblib.load('DRTPS_LassoCV.pkl')\n",
    "result = df['D']\n",
    "predictions = model.predict(X_new)\n",
    "mse = mean_squared_error(result, predictions)\n",
    "print(\"MSE:\", mse)\n",
    "rmse = np.sqrt(mse)\n",
    "print(\"RMSE:\", rmse)\n",
    "r2 = r2_score(result, predictions)\n",
    "print(\"R2:\", r2)"
   ]
  },
  {
   "cell_type": "code",
   "execution_count": 11,
   "id": "4d062f1c",
   "metadata": {},
   "outputs": [
    {
     "name": "stdout",
     "output_type": "stream",
     "text": [
      "MSE: 287.3048899507025\n",
      "RMSE: 16.95007049987411\n",
      "R2: 0.2533384647606316\n"
     ]
    }
   ],
   "source": [
    "model = joblib.load('DRTPS_Lars.pkl')\n",
    "result = df['D']\n",
    "predictions = model.predict(X_new)\n",
    "mse = mean_squared_error(result, predictions)\n",
    "print(\"MSE:\", mse)\n",
    "rmse = np.sqrt(mse)\n",
    "print(\"RMSE:\", rmse)\n",
    "r2 = r2_score(result, predictions)\n",
    "print(\"R2:\", r2)"
   ]
  },
  {
   "cell_type": "code",
   "execution_count": 12,
   "id": "c83a1684",
   "metadata": {},
   "outputs": [
    {
     "name": "stdout",
     "output_type": "stream",
     "text": [
      "MSE: 280.15556894376726\n",
      "RMSE: 16.737848396486548\n",
      "R2: 0.27191845829945815\n"
     ]
    }
   ],
   "source": [
    "model = joblib.load('DRTPS_LarsCV.pkl')\n",
    "result = df['D']\n",
    "predictions = model.predict(X_new)\n",
    "mse = mean_squared_error(result, predictions)\n",
    "print(\"MSE:\", mse)\n",
    "rmse = np.sqrt(mse)\n",
    "print(\"RMSE:\", rmse)\n",
    "r2 = r2_score(result, predictions)\n",
    "print(\"R2:\", r2)"
   ]
  },
  {
   "cell_type": "code",
   "execution_count": 13,
   "id": "b9250e82",
   "metadata": {},
   "outputs": [
    {
     "name": "stdout",
     "output_type": "stream",
     "text": [
      "MSE: 290.5132210582132\n",
      "RMSE: 17.04444839407287\n",
      "R2: 0.24500050214989688\n"
     ]
    }
   ],
   "source": [
    "model = joblib.load('DRTPS_LassoLars.pkl')\n",
    "result = df['D']\n",
    "predictions = model.predict(X_new)\n",
    "mse = mean_squared_error(result, predictions)\n",
    "print(\"MSE:\", mse)\n",
    "rmse = np.sqrt(mse)\n",
    "print(\"RMSE:\", rmse)\n",
    "r2 = r2_score(result, predictions)\n",
    "print(\"R2:\", r2)"
   ]
  },
  {
   "cell_type": "code",
   "execution_count": 14,
   "id": "326ead4f",
   "metadata": {},
   "outputs": [
    {
     "name": "stdout",
     "output_type": "stream",
     "text": [
      "MSE: 314.475190406625\n",
      "RMSE: 17.733448350690992\n",
      "R2: 0.18272700299673683\n"
     ]
    }
   ],
   "source": [
    "model = joblib.load('DRTPS_LassoLarsIC.pkl')\n",
    "result = df['D']\n",
    "predictions = model.predict(X_new)\n",
    "mse = mean_squared_error(result, predictions)\n",
    "print(\"MSE:\", mse)\n",
    "rmse = np.sqrt(mse)\n",
    "print(\"RMSE:\", rmse)\n",
    "r2 = r2_score(result, predictions)\n",
    "print(\"R2:\", r2)"
   ]
  },
  {
   "cell_type": "code",
   "execution_count": 15,
   "id": "03485e3b",
   "metadata": {},
   "outputs": [
    {
     "name": "stdout",
     "output_type": "stream",
     "text": [
      "MSE: 399.0137904391083\n",
      "RMSE: 19.9753295451942\n",
      "R2: -0.03697590877086898\n"
     ]
    }
   ],
   "source": [
    "model = joblib.load('DRTPS_ElasticNet.pkl')\n",
    "result = df['D']\n",
    "predictions = model.predict(X_new)\n",
    "mse = mean_squared_error(result, predictions)\n",
    "print(\"MSE:\", mse)\n",
    "rmse = np.sqrt(mse)\n",
    "print(\"RMSE:\", rmse)\n",
    "r2 = r2_score(result, predictions)\n",
    "print(\"R2:\", r2)"
   ]
  },
  {
   "cell_type": "code",
   "execution_count": 38,
   "id": "d6cf6d89",
   "metadata": {},
   "outputs": [
    {
     "name": "stdout",
     "output_type": "stream",
     "text": [
      "MSE: 290.88758587878675\n",
      "RMSE: 17.05542687471606\n",
      "R2: 0.244027585149713\n"
     ]
    }
   ],
   "source": [
    "model = joblib.load('DRTPS_ElasticNetCV.pkl')\n",
    "result = df['D']\n",
    "predictions = model.predict(X_new)\n",
    "mse = mean_squared_error(result, predictions)\n",
    "print(\"MSE:\", mse)\n",
    "rmse = np.sqrt(mse)\n",
    "print(\"RMSE:\", rmse)\n",
    "r2 = r2_score(result, predictions)\n",
    "print(\"R2:\", r2)"
   ]
  },
  {
   "cell_type": "code",
   "execution_count": 16,
   "id": "607093b5",
   "metadata": {},
   "outputs": [
    {
     "name": "stdout",
     "output_type": "stream",
     "text": [
      "MSE: 336.86806650324337\n",
      "RMSE: 18.35396596115519\n",
      "R2: 0.12453133759196444\n"
     ]
    }
   ],
   "source": [
    "model = joblib.load('DRTPS_OrthogonalMatchingPursuit.pkl')\n",
    "result = df['D']\n",
    "predictions = model.predict(X_new)\n",
    "mse = mean_squared_error(result, predictions)\n",
    "print(\"MSE:\", mse)\n",
    "rmse = np.sqrt(mse)\n",
    "print(\"RMSE:\", rmse)\n",
    "r2 = r2_score(result, predictions)\n",
    "print(\"R2:\", r2)"
   ]
  },
  {
   "cell_type": "code",
   "execution_count": 17,
   "id": "ad852990",
   "metadata": {},
   "outputs": [
    {
     "name": "stdout",
     "output_type": "stream",
     "text": [
      "MSE: 336.86806650324337\n",
      "RMSE: 18.35396596115519\n",
      "R2: 0.12453133759196444\n"
     ]
    }
   ],
   "source": [
    "model = joblib.load('DRTPS_OrthogonalMatchingPursuitCV.pkl')\n",
    "result = df['D']\n",
    "predictions = model.predict(X_new)\n",
    "mse = mean_squared_error(result, predictions)\n",
    "print(\"MSE:\", mse)\n",
    "rmse = np.sqrt(mse)\n",
    "print(\"RMSE:\", rmse)\n",
    "r2 = r2_score(result, predictions)\n",
    "print(\"R2:\", r2)"
   ]
  },
  {
   "cell_type": "code",
   "execution_count": 18,
   "id": "f3607816",
   "metadata": {},
   "outputs": [
    {
     "name": "stdout",
     "output_type": "stream",
     "text": [
      "MSE: 294.7199313992288\n",
      "RMSE: 17.16740898910575\n",
      "R2: 0.2340679043717353\n"
     ]
    }
   ],
   "source": [
    "model = joblib.load('DRTPS_BayesianRidge.pkl')\n",
    "result = df['D']\n",
    "predictions = model.predict(X_new)\n",
    "mse = mean_squared_error(result, predictions)\n",
    "print(\"MSE:\", mse)\n",
    "rmse = np.sqrt(mse)\n",
    "print(\"RMSE:\", rmse)\n",
    "r2 = r2_score(result, predictions)\n",
    "print(\"R2:\", r2)"
   ]
  },
  {
   "cell_type": "code",
   "execution_count": 19,
   "id": "4b4e0822",
   "metadata": {},
   "outputs": [
    {
     "name": "stdout",
     "output_type": "stream",
     "text": [
      "MSE: 287.69858918412433\n",
      "RMSE: 16.96168002245427\n",
      "R2: 0.25231530057397356\n"
     ]
    }
   ],
   "source": [
    "model = joblib.load('DRTPS_ARDRegression.pkl')\n",
    "result = df['D']\n",
    "predictions = model.predict(X_new)\n",
    "mse = mean_squared_error(result, predictions)\n",
    "print(\"MSE:\", mse)\n",
    "rmse = np.sqrt(mse)\n",
    "print(\"RMSE:\", rmse)\n",
    "r2 = r2_score(result, predictions)\n",
    "print(\"R2:\", r2)"
   ]
  },
  {
   "cell_type": "code",
   "execution_count": 20,
   "id": "f58a6e6c",
   "metadata": {},
   "outputs": [
    {
     "name": "stdout",
     "output_type": "stream",
     "text": [
      "MSE: 397.7846482107752\n",
      "RMSE: 19.94453930806062\n",
      "R2: -0.033781555819228704\n"
     ]
    }
   ],
   "source": [
    "model = joblib.load('DRTPS_TweedieRegressor.pkl')\n",
    "result = df['D']\n",
    "predictions = model.predict(X_new)\n",
    "mse = mean_squared_error(result, predictions)\n",
    "print(\"MSE:\", mse)\n",
    "rmse = np.sqrt(mse)\n",
    "print(\"RMSE:\", rmse)\n",
    "r2 = r2_score(result, predictions)\n",
    "print(\"R2:\", r2)"
   ]
  },
  {
   "cell_type": "code",
   "execution_count": 21,
   "id": "72db7255",
   "metadata": {},
   "outputs": [
    {
     "name": "stdout",
     "output_type": "stream",
     "text": [
      "MSE: 633.5144090092555\n",
      "RMSE: 25.169712136002975\n",
      "R2: -0.6464072063245274\n"
     ]
    }
   ],
   "source": [
    "model = joblib.load('DRTPS_PassiveAggressiveRegressor.pkl')\n",
    "result = df['D']\n",
    "predictions = model.predict(X_new)\n",
    "mse = mean_squared_error(result, predictions)\n",
    "print(\"MSE:\", mse)\n",
    "rmse = np.sqrt(mse)\n",
    "print(\"RMSE:\", rmse)\n",
    "r2 = r2_score(result, predictions)\n",
    "print(\"R2:\", r2)"
   ]
  },
  {
   "cell_type": "code",
   "execution_count": 22,
   "id": "097827e1",
   "metadata": {},
   "outputs": [
    {
     "name": "stdout",
     "output_type": "stream",
     "text": [
      "MSE: 2.5034412170342566e+25\n",
      "RMSE: 5003440033651.1045\n",
      "R2: -6.506061427680689e+22\n"
     ]
    }
   ],
   "source": [
    "model = joblib.load('DRTPS_RANSACRegressor.pkl')\n",
    "result = df['D']\n",
    "predictions = model.predict(X_new)\n",
    "mse = mean_squared_error(result, predictions)\n",
    "print(\"MSE:\", mse)\n",
    "rmse = np.sqrt(mse)\n",
    "print(\"RMSE:\", rmse)\n",
    "r2 = r2_score(result, predictions)\n",
    "print(\"R2:\", r2)"
   ]
  },
  {
   "cell_type": "code",
   "execution_count": 23,
   "id": "86053408",
   "metadata": {},
   "outputs": [
    {
     "name": "stdout",
     "output_type": "stream",
     "text": [
      "MSE: 251.68671081156583\n",
      "RMSE: 15.864637115659653\n",
      "R2: 0.34590467316391316\n"
     ]
    }
   ],
   "source": [
    "model = joblib.load('DRTPS_TheilSenRegressor.pkl')\n",
    "result = df['D']\n",
    "predictions = model.predict(X_new)\n",
    "mse = mean_squared_error(result, predictions)\n",
    "print(\"MSE:\", mse)\n",
    "rmse = np.sqrt(mse)\n",
    "print(\"RMSE:\", rmse)\n",
    "r2 = r2_score(result, predictions)\n",
    "print(\"R2:\", r2)"
   ]
  },
  {
   "cell_type": "code",
   "execution_count": 24,
   "id": "2f4f7a82",
   "metadata": {},
   "outputs": [
    {
     "name": "stdout",
     "output_type": "stream",
     "text": [
      "MSE: 285.14330845804204\n",
      "RMSE: 16.88618691291915\n",
      "R2: 0.2589560849693646\n"
     ]
    }
   ],
   "source": [
    "model = joblib.load('DRTPS_MLPRegressor.pkl')\n",
    "result = df['D']\n",
    "predictions = model.predict(X_new)\n",
    "mse = mean_squared_error(result, predictions)\n",
    "print(\"MSE:\", mse)\n",
    "rmse = np.sqrt(mse)\n",
    "print(\"RMSE:\", rmse)\n",
    "r2 = r2_score(result, predictions)\n",
    "print(\"R2:\", r2)"
   ]
  },
  {
   "cell_type": "code",
   "execution_count": 25,
   "id": "94c2786c",
   "metadata": {},
   "outputs": [
    {
     "name": "stdout",
     "output_type": "stream",
     "text": [
      "MSE: 392.8226187855029\n",
      "RMSE: 19.819753247341474\n",
      "R2: -0.02088599908431732\n"
     ]
    }
   ],
   "source": [
    "model = joblib.load('DRTPS_GaussianProcessRegressor.pkl')\n",
    "result = df['D']\n",
    "predictions = model.predict(X_new)\n",
    "mse = mean_squared_error(result, predictions)\n",
    "print(\"MSE:\", mse)\n",
    "rmse = np.sqrt(mse)\n",
    "print(\"RMSE:\", rmse)\n",
    "r2 = r2_score(result, predictions)\n",
    "print(\"R2:\", r2)"
   ]
  },
  {
   "cell_type": "code",
   "execution_count": 26,
   "id": "ac3cafe3",
   "metadata": {},
   "outputs": [
    {
     "name": "stdout",
     "output_type": "stream",
     "text": [
      "MSE: 267.53604928579716\n",
      "RMSE: 16.356529255492962\n",
      "R2: 0.30471466278946924\n"
     ]
    }
   ],
   "source": [
    "model = joblib.load('DRTPS_KernelRidge.pkl')\n",
    "result = df['D']\n",
    "predictions = model.predict(X_new)\n",
    "mse = mean_squared_error(result, predictions)\n",
    "print(\"MSE:\", mse)\n",
    "rmse = np.sqrt(mse)\n",
    "print(\"RMSE:\", rmse)\n",
    "r2 = r2_score(result, predictions)\n",
    "print(\"R2:\", r2)"
   ]
  },
  {
   "cell_type": "code",
   "execution_count": 27,
   "id": "b5dd7c21",
   "metadata": {},
   "outputs": [
    {
     "name": "stdout",
     "output_type": "stream",
     "text": [
      "MSE: 284.64760785448203\n",
      "RMSE: 16.871502833312807\n",
      "R2: 0.260244335140591\n"
     ]
    }
   ],
   "source": [
    "model = joblib.load('DRTPS_GradientBoostingRegressor.pkl')\n",
    "result = df['D']\n",
    "predictions = model.predict(X_new)\n",
    "mse = mean_squared_error(result, predictions)\n",
    "print(\"MSE:\", mse)\n",
    "rmse = np.sqrt(mse)\n",
    "print(\"RMSE:\", rmse)\n",
    "r2 = r2_score(result, predictions)\n",
    "print(\"R2:\", r2)"
   ]
  },
  {
   "cell_type": "code",
   "execution_count": 28,
   "id": "f8973847",
   "metadata": {},
   "outputs": [
    {
     "name": "stdout",
     "output_type": "stream",
     "text": [
      "MSE: 400.9023353093807\n",
      "RMSE: 20.022545675047933\n",
      "R2: -0.04188394849287991\n"
     ]
    }
   ],
   "source": [
    "model = joblib.load('DRTPS_DummyRegressor.pkl')\n",
    "result = df['D']\n",
    "predictions = model.predict(X_new)\n",
    "mse = mean_squared_error(result, predictions)\n",
    "print(\"MSE:\", mse)\n",
    "rmse = np.sqrt(mse)\n",
    "print(\"RMSE:\", rmse)\n",
    "r2 = r2_score(result, predictions)\n",
    "print(\"R2:\", r2)"
   ]
  },
  {
   "cell_type": "code",
   "execution_count": 29,
   "id": "dda25672",
   "metadata": {},
   "outputs": [
    {
     "name": "stdout",
     "output_type": "stream",
     "text": [
      "MSE: 484.57220930469606\n",
      "RMSE: 22.013000915474837\n",
      "R2: -0.25932917395126376\n"
     ]
    }
   ],
   "source": [
    "model = joblib.load('DRTPS_AdaBoostRegressor.pkl')\n",
    "result = df['D']\n",
    "predictions = model.predict(X_new)\n",
    "mse = mean_squared_error(result, predictions)\n",
    "print(\"MSE:\", mse)\n",
    "rmse = np.sqrt(mse)\n",
    "print(\"RMSE:\", rmse)\n",
    "r2 = r2_score(result, predictions)\n",
    "print(\"R2:\", r2)"
   ]
  },
  {
   "cell_type": "code",
   "execution_count": 30,
   "id": "bde8afbc",
   "metadata": {},
   "outputs": [
    {
     "name": "stdout",
     "output_type": "stream",
     "text": [
      "MSE: 391.62157044323953\n",
      "RMSE: 19.789430776129958\n",
      "R2: -0.017764657852412213\n"
     ]
    }
   ],
   "source": [
    "model = joblib.load('DRTPS_BaggingRegressor.pkl')\n",
    "result = df['D']\n",
    "predictions = model.predict(X_new)\n",
    "mse = mean_squared_error(result, predictions)\n",
    "print(\"MSE:\", mse)\n",
    "rmse = np.sqrt(mse)\n",
    "print(\"RMSE:\", rmse)\n",
    "r2 = r2_score(result, predictions)\n",
    "print(\"R2:\", r2)"
   ]
  },
  {
   "cell_type": "code",
   "execution_count": 31,
   "id": "efb88b17",
   "metadata": {},
   "outputs": [
    {
     "name": "stdout",
     "output_type": "stream",
     "text": [
      "MSE: 376.7644735632184\n",
      "RMSE: 19.41042177705622\n",
      "R2: 0.02084666814186531\n"
     ]
    }
   ],
   "source": [
    "model = joblib.load('DRTPS_ExtraTreesRegressor.pkl')\n",
    "result = df['D']\n",
    "predictions = model.predict(X_new)\n",
    "mse = mean_squared_error(result, predictions)\n",
    "print(\"MSE:\", mse)\n",
    "rmse = np.sqrt(mse)\n",
    "print(\"RMSE:\", rmse)\n",
    "r2 = r2_score(result, predictions)\n",
    "print(\"R2:\", r2)"
   ]
  },
  {
   "cell_type": "code",
   "execution_count": 32,
   "id": "ac57cdd7",
   "metadata": {},
   "outputs": [
    {
     "name": "stdout",
     "output_type": "stream",
     "text": [
      "MSE: 341.86985006634694\n",
      "RMSE: 18.489722822864245\n",
      "R2: 0.11153246592360277\n"
     ]
    }
   ],
   "source": [
    "model = joblib.load('DRTPS_RandomForestRegressor.pkl')\n",
    "result = df['D']\n",
    "predictions = model.predict(X_new)\n",
    "mse = mean_squared_error(result, predictions)\n",
    "print(\"MSE:\", mse)\n",
    "rmse = np.sqrt(mse)\n",
    "print(\"RMSE:\", rmse)\n",
    "r2 = r2_score(result, predictions)\n",
    "print(\"R2:\", r2)"
   ]
  },
  {
   "cell_type": "code",
   "execution_count": 33,
   "id": "63291e04",
   "metadata": {},
   "outputs": [
    {
     "name": "stdout",
     "output_type": "stream",
     "text": [
      "MSE: 486.9667759356582\n",
      "RMSE: 22.06732371484268\n",
      "R2: -0.2655522869557585\n"
     ]
    }
   ],
   "source": [
    "model = joblib.load('DRTPS_HistGradientBoostingRegressor.pkl')\n",
    "result = df['D']\n",
    "predictions = model.predict(X_new)\n",
    "mse = mean_squared_error(result, predictions)\n",
    "print(\"MSE:\", mse)\n",
    "rmse = np.sqrt(mse)\n",
    "print(\"RMSE:\", rmse)\n",
    "r2 = r2_score(result, predictions)\n",
    "print(\"R2:\", r2)"
   ]
  },
  {
   "cell_type": "code",
   "execution_count": 34,
   "id": "af33ad82",
   "metadata": {},
   "outputs": [
    {
     "name": "stdout",
     "output_type": "stream",
     "text": [
      "MSE: 344.61877394636014\n",
      "RMSE: 18.563910524088403\n",
      "R2: 0.10438843254199559\n"
     ]
    }
   ],
   "source": [
    "model = joblib.load('DRTPS_KNeighborsRegressor.pkl')\n",
    "result = df['D']\n",
    "predictions = model.predict(X_new)\n",
    "mse = mean_squared_error(result, predictions)\n",
    "print(\"MSE:\", mse)\n",
    "rmse = np.sqrt(mse)\n",
    "print(\"RMSE:\", rmse)\n",
    "r2 = r2_score(result, predictions)\n",
    "print(\"R2:\", r2)"
   ]
  },
  {
   "cell_type": "code",
   "execution_count": 35,
   "id": "2089dcdc",
   "metadata": {},
   "outputs": [
    {
     "name": "stdout",
     "output_type": "stream",
     "text": [
      "MSE: 285.15184912610795\n",
      "RMSE: 16.88643980020975\n",
      "R2: 0.2589338890772892\n"
     ]
    }
   ],
   "source": [
    "model = joblib.load('DRTPS_LinearSVR.pkl')\n",
    "result = df['D']\n",
    "predictions = model.predict(X_new)\n",
    "mse = mean_squared_error(result, predictions)\n",
    "print(\"MSE:\", mse)\n",
    "rmse = np.sqrt(mse)\n",
    "print(\"RMSE:\", rmse)\n",
    "r2 = r2_score(result, predictions)\n",
    "print(\"R2:\", r2)"
   ]
  },
  {
   "cell_type": "code",
   "execution_count": 36,
   "id": "089af33a",
   "metadata": {},
   "outputs": [
    {
     "name": "stdout",
     "output_type": "stream",
     "text": [
      "MSE: 375.8526614906717\n",
      "RMSE: 19.386919855682898\n",
      "R2: 0.02321632847745614\n"
     ]
    }
   ],
   "source": [
    "model = joblib.load('DRTPS_NuSVR.pkl')\n",
    "result = df['D']\n",
    "predictions = model.predict(X_new)\n",
    "mse = mean_squared_error(result, predictions)\n",
    "print(\"MSE:\", mse)\n",
    "rmse = np.sqrt(mse)\n",
    "print(\"RMSE:\", rmse)\n",
    "r2 = r2_score(result, predictions)\n",
    "print(\"R2:\", r2)"
   ]
  },
  {
   "cell_type": "code",
   "execution_count": 37,
   "id": "9414d611",
   "metadata": {},
   "outputs": [
    {
     "name": "stdout",
     "output_type": "stream",
     "text": [
      "MSE: 325.69483281507274\n",
      "RMSE: 18.04701728306018\n",
      "R2: 0.15356886570584094\n"
     ]
    }
   ],
   "source": [
    "model = joblib.load('DRTPS_SVR.pkl')\n",
    "result = df['D']\n",
    "predictions = model.predict(X_new)\n",
    "mse = mean_squared_error(result, predictions)\n",
    "print(\"MSE:\", mse)\n",
    "rmse = np.sqrt(mse)\n",
    "print(\"RMSE:\", rmse)\n",
    "r2 = r2_score(result, predictions)\n",
    "print(\"R2:\", r2)"
   ]
  },
  {
   "cell_type": "code",
   "execution_count": null,
   "id": "6b345610",
   "metadata": {},
   "outputs": [],
   "source": []
  }
 ],
 "metadata": {
  "kernelspec": {
   "display_name": "Python 3",
   "language": "python",
   "name": "python3"
  },
  "language_info": {
   "codemirror_mode": {
    "name": "ipython",
    "version": 3
   },
   "file_extension": ".py",
   "mimetype": "text/x-python",
   "name": "python",
   "nbconvert_exporter": "python",
   "pygments_lexer": "ipython3",
   "version": "3.8.8"
  }
 },
 "nbformat": 4,
 "nbformat_minor": 5
}
